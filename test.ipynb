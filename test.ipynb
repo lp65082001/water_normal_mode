{
 "cells": [
  {
   "cell_type": "code",
   "execution_count": 1,
   "id": "63bb6ba1",
   "metadata": {},
   "outputs": [],
   "source": [
    "import numpy as np\n",
    "import matplotlib.pyplot as plt\n",
    "import matplotlib.animation as animation"
   ]
  },
  {
   "cell_type": "code",
   "execution_count": 2,
   "id": "2df0d6ea",
   "metadata": {},
   "outputs": [],
   "source": [
    "plt.rcParams['figure.dpi'] = 300\n",
    "plt.rcParams['savefig.dpi'] = 300"
   ]
  },
  {
   "cell_type": "code",
   "execution_count": null,
   "id": "d894a4a9",
   "metadata": {},
   "outputs": [],
   "source": []
  },
  {
   "cell_type": "code",
   "execution_count": null,
   "id": "30250000",
   "metadata": {},
   "outputs": [],
   "source": []
  },
  {
   "cell_type": "code",
   "execution_count": null,
   "id": "3e34dfb8",
   "metadata": {},
   "outputs": [],
   "source": []
  },
  {
   "cell_type": "code",
   "execution_count": null,
   "id": "3b7d8513",
   "metadata": {},
   "outputs": [],
   "source": []
  },
  {
   "cell_type": "code",
   "execution_count": null,
   "id": "b74930ff",
   "metadata": {},
   "outputs": [],
   "source": []
  },
  {
   "cell_type": "code",
   "execution_count": null,
   "id": "2084eedc",
   "metadata": {},
   "outputs": [],
   "source": []
  },
  {
   "cell_type": "markdown",
   "id": "45811b5f",
   "metadata": {},
   "source": [
    "three body structure (two dimensions)\n",
    "<img src=\"./figure/question.png\" alt=\"Drawing\" style=\"width: 200px;\"/>\n",
    "https://www.khanacademy.org/science/ap-biology/chemistry-of-life/structure-of-water-and-hydrogen-bonding/a/hs-water-and-life-review"
   ]
  },
  {
   "cell_type": "code",
   "execution_count": 16,
   "id": "6ae2c685",
   "metadata": {},
   "outputs": [],
   "source": [
    "# System #\n",
    "\n",
    "'''\n",
    "H1:1\n",
    "H2:2\n",
    "O:3\n",
    "'''\n",
    "\n",
    "# Stiffness #\n",
    "KOH1 = 10\n",
    "KOH2 = 10\n",
    "\n",
    "#LOH1 = 0.5\n",
    "#LOH2 = 0.5\n",
    "\n",
    "stiffness_list = np.array([KOH1,KOH2])\n",
    "#spring_length_list = np.array([LOH1,L0H2])\n",
    "\n",
    "\n",
    "# Mass #\n",
    "MH1 = 1\n",
    "MH2 = 1\n",
    "MO = 16\n",
    "\n",
    "mass_list = np.array([MH1,MH2,MO])\n",
    "\n",
    "# Position #\n",
    "PH1 = [0,0]\n",
    "PH2 = [2,0]\n",
    "PO = [0.5,1.5]\n",
    "\n",
    "position_list = np.array([PH1,PH2,PO])\n",
    "\n",
    "# Bond list #\n",
    "\n",
    "bond_list = np.array([[0,2],[1,2]])\n"
   ]
  },
  {
   "cell_type": "code",
   "execution_count": 17,
   "id": "f1802bb2",
   "metadata": {},
   "outputs": [],
   "source": [
    "def bond_stiffness(k,m1,m2):\n",
    "    return np.array([[k/(m1**0.5*m1**0.5),0,-k/(m1**0.5*m2**0.5),0],[0,k/(m1**0.5*m1**0.5),0,-k/(m1**0.5*m2**0.5)],[-k/(m1**0.5*m2**0.5),0,k/(m2**0.5*m2**0.5),0],[0,-k/(m1**0.5*m2**0.5),0,k/(m2**0.5*m2**0.5)]])"
   ]
  },
  {
   "cell_type": "code",
   "execution_count": 18,
   "id": "00304039",
   "metadata": {},
   "outputs": [],
   "source": [
    "def hessian(m_list,p_list,b_list,k_list):\n",
    "    hm = np.zeros((m_list.shape[0]*2,m_list.shape[0]*2))\n",
    "    \n",
    "    num_cout = 0\n",
    "    for i,j in bond_list*2:\n",
    "\n",
    "        k_n = bond_stiffness(k_list[num_cout],m_list[int(i/2)],m_list[int(j/2)])\n",
    "        print(k_n)\n",
    "        hm[i,i:i+2] += k_n[0,0:2]\n",
    "        hm[i,j:j+2] += k_n[0,2:4]\n",
    "        \n",
    "        hm[i+1,i:i+2] += k_n[1,0:2]\n",
    "        hm[i+1,j:j+2] += k_n[1,2:4]\n",
    "        \n",
    "        hm[j,i:i+2] += k_n[2,0:2]\n",
    "        hm[j,j:j+2] += k_n[2,2:4]\n",
    "        \n",
    "        hm[j+1,i:i+2] += k_n[3,0:2]\n",
    "        hm[j+1,j:j+2] += k_n[3,2:4]\n",
    "        \n",
    " \n",
    "    return hm"
   ]
  },
  {
   "cell_type": "code",
   "execution_count": 19,
   "id": "0ec7a853",
   "metadata": {},
   "outputs": [
    {
     "name": "stdout",
     "output_type": "stream",
     "text": [
      "[[10.     0.    -2.5    0.   ]\n",
      " [ 0.    10.     0.    -2.5  ]\n",
      " [-2.5    0.     0.625  0.   ]\n",
      " [ 0.    -2.5    0.     0.625]]\n",
      "[[10.     0.    -2.5    0.   ]\n",
      " [ 0.    10.     0.    -2.5  ]\n",
      " [-2.5    0.     0.625  0.   ]\n",
      " [ 0.    -2.5    0.     0.625]]\n"
     ]
    }
   ],
   "source": [
    "system_kmatrix = hessian(mass_list,position_list,bond_list,stiffness_list)"
   ]
  },
  {
   "cell_type": "code",
   "execution_count": 20,
   "id": "3f8df900",
   "metadata": {},
   "outputs": [
    {
     "name": "stdout",
     "output_type": "stream",
     "text": [
      "[[10.    0.    0.    0.   -2.5   0.  ]\n",
      " [ 0.   10.    0.    0.    0.   -2.5 ]\n",
      " [ 0.    0.   10.    0.   -2.5   0.  ]\n",
      " [ 0.    0.    0.   10.    0.   -2.5 ]\n",
      " [-2.5   0.   -2.5   0.    1.25  0.  ]\n",
      " [ 0.   -2.5   0.   -2.5   0.    1.25]]\n"
     ]
    }
   ],
   "source": [
    "print(system_kmatrix)"
   ]
  },
  {
   "cell_type": "code",
   "execution_count": 8,
   "id": "b91ea71e",
   "metadata": {},
   "outputs": [],
   "source": [
    "system_val, system_vec = np.linalg.eig(system_kmatrix)"
   ]
  },
  {
   "cell_type": "code",
   "execution_count": 9,
   "id": "81f157cf",
   "metadata": {},
   "outputs": [
    {
     "data": {
      "text/plain": [
       "array([  0. , 100. , 112.5,   0. , 100. , 112.5])"
      ]
     },
     "execution_count": 9,
     "metadata": {},
     "output_type": "execute_result"
    }
   ],
   "source": [
    "system_val"
   ]
  },
  {
   "cell_type": "code",
   "execution_count": 10,
   "id": "09e61c07",
   "metadata": {},
   "outputs": [
    {
     "data": {
      "text/plain": [
       "array([[ 2.35702260e-01, -7.07106781e-01,  6.66666667e-01,\n",
       "         0.00000000e+00,  0.00000000e+00,  0.00000000e+00],\n",
       "       [-0.00000000e+00,  0.00000000e+00,  0.00000000e+00,\n",
       "         2.35702260e-01,  7.07106781e-01,  6.66666667e-01],\n",
       "       [ 2.35702260e-01,  7.07106781e-01,  6.66666667e-01,\n",
       "         0.00000000e+00,  0.00000000e+00,  0.00000000e+00],\n",
       "       [-0.00000000e+00,  0.00000000e+00,  0.00000000e+00,\n",
       "         2.35702260e-01, -7.07106781e-01,  6.66666667e-01],\n",
       "       [ 9.42809042e-01, -1.22450471e-15, -3.33333333e-01,\n",
       "         0.00000000e+00,  0.00000000e+00,  0.00000000e+00],\n",
       "       [-0.00000000e+00,  0.00000000e+00,  0.00000000e+00,\n",
       "         9.42809042e-01, -1.22450471e-15, -3.33333333e-01]])"
      ]
     },
     "execution_count": 10,
     "metadata": {},
     "output_type": "execute_result"
    }
   ],
   "source": [
    "system_vec"
   ]
  },
  {
   "cell_type": "code",
   "execution_count": 11,
   "id": "6654432e",
   "metadata": {},
   "outputs": [],
   "source": [
    "modeshape = system_vec[[2,3,4]]"
   ]
  },
  {
   "cell_type": "code",
   "execution_count": 12,
   "id": "a71ef9e6",
   "metadata": {},
   "outputs": [
    {
     "data": {
      "text/plain": [
       "2.8284271247461903"
      ]
     },
     "execution_count": 12,
     "metadata": {},
     "output_type": "execute_result"
    }
   ],
   "source": [
    "(2**0.5*4**0.5)"
   ]
  },
  {
   "cell_type": "code",
   "execution_count": null,
   "id": "17a9903b",
   "metadata": {},
   "outputs": [],
   "source": []
  },
  {
   "cell_type": "code",
   "execution_count": 13,
   "id": "e0eab544",
   "metadata": {},
   "outputs": [
    {
     "data": {
      "text/plain": [
       "\"\\nimport matplotlib.pyplot as plt\\nimport matplotlib.animation as animation\\n\\nfig, ax = plt.subplots()  # 建立單一圖表\\nax.set_xlim(0,10)         # 設定 x 軸範圍 0～10\\nax.set_ylim(0,10)         # 設定 y 軸範圍 0～10\\n\\ndef init():\\n    ax.scatter(2, 8)      # 一開始要執行的韓式，在 (2,8) 的位置畫點\\n\\ndef run(data):\\n    if data>0:\\n        ax.scatter(data, data)    # 如果資料大於 0，就在圖表上畫點\\n    else:\\n        pass\\n\\nani = animation.FuncAnimation(fig, run, frames=10, interval=10, init_func=init)  # 製作動畫\\nani.save('animation.gif', fps=10)   # 儲存為 gif\\nplt.show()\\n\""
      ]
     },
     "execution_count": 13,
     "metadata": {},
     "output_type": "execute_result"
    }
   ],
   "source": [
    "'''\n",
    "import matplotlib.pyplot as plt\n",
    "import matplotlib.animation as animation\n",
    "\n",
    "fig, ax = plt.subplots()  # 建立單一圖表\n",
    "ax.set_xlim(0,10)         # 設定 x 軸範圍 0～10\n",
    "ax.set_ylim(0,10)         # 設定 y 軸範圍 0～10\n",
    "\n",
    "def init():\n",
    "    ax.scatter(2, 8)      # 一開始要執行的韓式，在 (2,8) 的位置畫點\n",
    "\n",
    "def run(data):\n",
    "    if data>0:\n",
    "        ax.scatter(data, data)    # 如果資料大於 0，就在圖表上畫點\n",
    "    else:\n",
    "        pass\n",
    "\n",
    "ani = animation.FuncAnimation(fig, run, frames=10, interval=10, init_func=init)  # 製作動畫\n",
    "ani.save('animation.gif', fps=10)   # 儲存為 gif\n",
    "plt.show()\n",
    "'''"
   ]
  },
  {
   "cell_type": "code",
   "execution_count": null,
   "id": "ad0b30d9",
   "metadata": {},
   "outputs": [],
   "source": []
  }
 ],
 "metadata": {
  "kernelspec": {
   "display_name": "Python 3",
   "language": "python",
   "name": "python3"
  },
  "language_info": {
   "codemirror_mode": {
    "name": "ipython",
    "version": 3
   },
   "file_extension": ".py",
   "mimetype": "text/x-python",
   "name": "python",
   "nbconvert_exporter": "python",
   "pygments_lexer": "ipython3",
   "version": "3.8.8"
  }
 },
 "nbformat": 4,
 "nbformat_minor": 5
}
