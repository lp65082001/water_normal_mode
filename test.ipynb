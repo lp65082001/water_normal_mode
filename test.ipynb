{
 "cells": [
  {
   "cell_type": "code",
   "execution_count": 1,
   "id": "63bb6ba1",
   "metadata": {},
   "outputs": [],
   "source": [
    "import numpy as np"
   ]
  },
  {
   "cell_type": "markdown",
   "id": "45811b5f",
   "metadata": {},
   "source": [
    "Water molecule\n",
    "<img src=\"./figure/question.png\" alt=\"Drawing\" style=\"width: 200px;\"/>\n",
    "https://www.khanacademy.org/science/ap-biology/chemistry-of-life/structure-of-water-and-hydrogen-bonding/a/hs-water-and-life-review"
   ]
  },
  {
   "cell_type": "code",
   "execution_count": 2,
   "id": "6ae2c685",
   "metadata": {},
   "outputs": [],
   "source": [
    "# System #\n",
    "\n",
    "'''\n",
    "H1:1\n",
    "H2:2\n",
    "O:3\n",
    "'''\n",
    "\n",
    "# Stiffness #\n",
    "KOH1 = 1\n",
    "KOH2 = 1\n",
    "\n",
    "stiffness_list = np.array([KOH1,KOH2])\n",
    "\n",
    "# Mass #\n",
    "MH1 = 8\n",
    "MH2 = 8\n",
    "MO = 16\n",
    "\n",
    "mass_list = np.array([MH1,MH2,MO])\n",
    "\n",
    "# Position #\n",
    "PH1 = [0,0,0]\n",
    "PH2 = [2,0,0]\n",
    "PO = [1.5,0,0.5]\n",
    "\n",
    "position_list = np.array([PH1,PH2,PO])\n",
    "\n",
    "# Bond list #\n",
    "\n",
    "bond_list = np.array([[0,2],[1,2]])\n"
   ]
  },
  {
   "cell_type": "code",
   "execution_count": 3,
   "id": "f1802bb2",
   "metadata": {},
   "outputs": [],
   "source": [
    "def bond_stiffness(k):\n",
    "    return np.array([[k,0,0,-k,0,0],[0,k,0,0,-k,0],[0,0,k,0,0,-k],[-k,0,0,k,0,0],[0,-k,0,0,k,0],[0,0,-k,0,0,k]])"
   ]
  },
  {
   "cell_type": "code",
   "execution_count": 18,
   "id": "21583793",
   "metadata": {},
   "outputs": [],
   "source": [
    "def hessian(m_list,p_list,b_list,k_list):\n",
    "    hm = np.zeros((m_list.shape[0]*3,m_list.shape[0]*3))\n",
    "    \n",
    "    num_cout = 0\n",
    "    for i,j in bond_list*3:\n",
    "        k_n = bond_stiffness(k_list[num_cout])\n",
    "        hm[i,i:i+3] += k_n[0,0:3]\n",
    "        hm[i,j:j+3] += k_n[0,3:6]\n",
    "        \n",
    "        hm[i+1,i:i+3] += k_n[1,0:3]\n",
    "        hm[i+1,j:j+3] += k_n[1,3:6]\n",
    "        \n",
    "        hm[i+2,i:i+3] += k_n[2,0:3]\n",
    "        hm[i+2,j:j+3] += k_n[2,3:6]\n",
    "        \n",
    "        hm[j,i:i+3] += k_n[3,0:3]\n",
    "        hm[j,j:j+3] += k_n[3,3:6]\n",
    "        \n",
    "        hm[j+1,i:i+3] += k_n[4,0:3]\n",
    "        hm[j+1,j:j+3] += k_n[4,3:6]\n",
    "        \n",
    "        hm[j+2,i:i+3] += k_n[5,0:3]\n",
    "        hm[j+2,j:j+3] += k_n[5,3:6]\n",
    "    \n",
    "    return hm"
   ]
  },
  {
   "cell_type": "code",
   "execution_count": 21,
   "id": "0ec7a853",
   "metadata": {},
   "outputs": [],
   "source": [
    "system_kmatrix = hessian(mass_list,position_list,bond_list,stiffness_list)"
   ]
  },
  {
   "cell_type": "code",
   "execution_count": 30,
   "id": "7b478271",
   "metadata": {},
   "outputs": [],
   "source": [
    "system_val, system_vec = np.linalg.eig(system_kmatrix)"
   ]
  },
  {
   "cell_type": "code",
   "execution_count": 31,
   "id": "6bd97b53",
   "metadata": {},
   "outputs": [
    {
     "name": "stdout",
     "output_type": "stream",
     "text": [
      "[ 3.00000000e+00  1.00000000e+00 -1.64111068e-16  3.00000000e+00\n",
      "  1.00000000e+00 -1.64111068e-16  3.00000000e+00  1.00000000e+00\n",
      " -1.64111068e-16]\n"
     ]
    }
   ],
   "source": [
    "print(system_val)"
   ]
  },
  {
   "cell_type": "code",
   "execution_count": 33,
   "id": "d7293bed",
   "metadata": {},
   "outputs": [
    {
     "name": "stdout",
     "output_type": "stream",
     "text": [
      "(9, 9)\n"
     ]
    }
   ],
   "source": [
    "print(system_v)"
   ]
  },
  {
   "cell_type": "code",
   "execution_count": null,
   "id": "c4526f83",
   "metadata": {},
   "outputs": [],
   "source": []
  },
  {
   "cell_type": "code",
   "execution_count": null,
   "id": "c7d5b301",
   "metadata": {},
   "outputs": [],
   "source": []
  },
  {
   "cell_type": "code",
   "execution_count": null,
   "id": "bb90dbb1",
   "metadata": {},
   "outputs": [],
   "source": []
  },
  {
   "cell_type": "code",
   "execution_count": null,
   "id": "13c0c50d",
   "metadata": {},
   "outputs": [],
   "source": []
  },
  {
   "cell_type": "code",
   "execution_count": null,
   "id": "9b515efc",
   "metadata": {},
   "outputs": [],
   "source": []
  }
 ],
 "metadata": {
  "kernelspec": {
   "display_name": "Python 3",
   "language": "python",
   "name": "python3"
  },
  "language_info": {
   "codemirror_mode": {
    "name": "ipython",
    "version": 3
   },
   "file_extension": ".py",
   "mimetype": "text/x-python",
   "name": "python",
   "nbconvert_exporter": "python",
   "pygments_lexer": "ipython3",
   "version": "3.8.8"
  }
 },
 "nbformat": 4,
 "nbformat_minor": 5
}
