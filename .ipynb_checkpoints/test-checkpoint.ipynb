{
 "cells": [
  {
   "cell_type": "code",
   "execution_count": 1,
   "id": "63bb6ba1",
   "metadata": {},
   "outputs": [],
   "source": [
    "%matplotlib  inline\n",
    "import numpy as np\n",
    "import matplotlib.pyplot as plt\n",
    "import matplotlib.animation as animation\n",
    "from IPython.display import HTML\n",
    "from plot_animate import frequence, plot_mol_mode"
   ]
  },
  {
   "cell_type": "code",
   "execution_count": 2,
   "id": "2df0d6ea",
   "metadata": {},
   "outputs": [],
   "source": [
    "plt.rcParams['figure.dpi'] = 150\n",
    "plt.rcParams['savefig.dpi'] = 150"
   ]
  },
  {
   "cell_type": "markdown",
   "id": "6742e5fe",
   "metadata": {},
   "source": [
    "three body structure (one dimension)\n",
    "<img src=\"./figure/co2.png\" alt=\"Drawing\" style=\"width: 200px;\"/>\n",
    "https://en.wikipedia.org/wiki/Carbon_dioxide"
   ]
  },
  {
   "cell_type": "code",
   "execution_count": 3,
   "id": "37ef4582",
   "metadata": {},
   "outputs": [],
   "source": [
    "# System CO2#\n",
    "\n",
    "'''\n",
    "O1:1\n",
    "C:2\n",
    "O2:3\n",
    "'''\n",
    "\n",
    "# Stiffness #\n",
    "KCO1 = 1600\n",
    "KCO2 = 1600\n",
    "\n",
    "stiffness_list = np.array([KCO1,KCO2])\n",
    "#spring_length_list = np.array([LOH1,L0H2])\n",
    "\n",
    "\n",
    "# Mass (index: 1,2....n) #\n",
    "MO1 = 16\n",
    "MC = 12\n",
    "MO2 = 16\n",
    "\n",
    "\n",
    "mass_list = np.array([MO1,MC,MO2])\n",
    "\n",
    "# Position (equilibrium length)#\n",
    "PO1 = [0,0]\n",
    "PC = [1.163,0]\n",
    "PO2 = [2.326,0]\n",
    "\n",
    "\n",
    "position_list = np.array([PO1,PC,PO2])\n",
    "\n",
    "# Bond list #\n",
    "\n",
    "bond_list = np.array([[0,1],[1,2]])\n"
   ]
  },
  {
   "cell_type": "code",
   "execution_count": 4,
   "id": "63ddc259",
   "metadata": {},
   "outputs": [],
   "source": [
    "def bond_stiffness_1D(k,m1,m2):\n",
    "    return np.array([[k/(m1**0.5*m1**0.5),-k/(m1**0.5*m2**0.5)],[-k/(m1**0.5*m2**0.5),k/(m2**0.5*m2**0.5)]])"
   ]
  },
  {
   "cell_type": "code",
   "execution_count": 5,
   "id": "185361a4",
   "metadata": {},
   "outputs": [],
   "source": [
    "def hessian_1D(m_list,p_list,b_list,k_list):\n",
    "    hm = np.zeros((m_list.shape[0],m_list.shape[0]))\n",
    "    \n",
    "    num_cout = 0\n",
    "    for i,j in bond_list:\n",
    "        k_n = bond_stiffness_1D(k_list[num_cout],m_list[i],m_list[j])\n",
    "        \n",
    "        hm[i,i] += k_n[0,0]\n",
    "        hm[i,j] += k_n[0,1]\n",
    "        \n",
    "        hm[j,i] += k_n[1,0]\n",
    "        hm[j,j] += k_n[1,1]\n",
    "        \n",
    "    return hm"
   ]
  },
  {
   "cell_type": "code",
   "execution_count": 6,
   "id": "221eee92",
   "metadata": {},
   "outputs": [],
   "source": [
    "system_kmatrix_co2 = hessian_1D(mass_list,position_list,bond_list,stiffness_list)"
   ]
  },
  {
   "cell_type": "code",
   "execution_count": 7,
   "id": "5fa9d49d",
   "metadata": {},
   "outputs": [
    {
     "name": "stdout",
     "output_type": "stream",
     "text": [
      "[[ 100.         -115.47005384    0.        ]\n",
      " [-115.47005384  266.66666667 -115.47005384]\n",
      " [   0.         -115.47005384  100.        ]]\n"
     ]
    }
   ],
   "source": [
    "# hessian matrix (stiffness matrix)\n",
    "print(system_kmatrix_co2)"
   ]
  },
  {
   "cell_type": "code",
   "execution_count": 8,
   "id": "7883cd82",
   "metadata": {},
   "outputs": [
    {
     "name": "stdout",
     "output_type": "stream",
     "text": [
      "[ 3.66666667e+02  1.00000000e+02 -9.69188486e-15]\n",
      "[[-3.69274473e-01 -7.07106781e-01  6.03022689e-01]\n",
      " [ 8.52802865e-01  2.20031596e-16  5.22232968e-01]\n",
      " [-3.69274473e-01  7.07106781e-01  6.03022689e-01]]\n"
     ]
    }
   ],
   "source": [
    "# solve eignvalue and eignvector #\n",
    "system_co2_val, system_co2_vec = np.linalg.eig(system_kmatrix_co2)\n",
    "print(system_co2_val)\n",
    "print(system_co2_vec)"
   ]
  },
  {
   "cell_type": "markdown",
   "id": "043aa42a",
   "metadata": {},
   "source": [
    "Frequence\n",
    "<img src=\"./figure/freq.png\" alt=\"Drawing\" style=\"width: 200px;\"/>\n",
    "https://www.colby.edu/chemistry/PChem/notes/NormalModesText.pdf"
   ]
  },
  {
   "cell_type": "code",
   "execution_count": null,
   "id": "c59245fe",
   "metadata": {},
   "outputs": [],
   "source": [
    "modeshape = 0\n",
    "plot_mol_mode(position_list,frequence(system_co2_val[0]),system_co2_vec[:,0])"
   ]
  },
  {
   "cell_type": "code",
   "execution_count": null,
   "id": "809e2afe",
   "metadata": {},
   "outputs": [],
   "source": []
  },
  {
   "cell_type": "markdown",
   "id": "45811b5f",
   "metadata": {},
   "source": [
    "three body structure (two dimensions)\n",
    "<img src=\"./figure/question.png\" alt=\"Drawing\" style=\"width: 200px;\"/>\n",
    "https://www.khanacademy.org/science/ap-biology/chemistry-of-life/structure-of-water-and-hydrogen-bonding/a/hs-water-and-life-review"
   ]
  },
  {
   "cell_type": "code",
   "execution_count": 10,
   "id": "6ae2c685",
   "metadata": {},
   "outputs": [],
   "source": [
    "# System H2O#\n",
    "\n",
    "'''\n",
    "H1:1\n",
    "H2:2\n",
    "O:3\n",
    "'''\n",
    "\n",
    "# Stiffness #\n",
    "KOH1 = 10\n",
    "KOH2 = 10\n",
    "\n",
    "#LOH1 = 0.5\n",
    "#LOH2 = 0.5\n",
    "\n",
    "stiffness_list = np.array([KOH1,KOH2])\n",
    "#spring_length_list = np.array([LOH1,L0H2])\n",
    "\n",
    "\n",
    "# Mass #\n",
    "MH1 = 1\n",
    "MH2 = 1\n",
    "MO = 16\n",
    "\n",
    "mass_list = np.array([MH1,MH2,MO])\n",
    "\n",
    "# Position #\n",
    "PH1 = [0,0]\n",
    "PH2 = [2,0]\n",
    "PO = [0.5,1.5]\n",
    "\n",
    "position_list = np.array([PH1,PH2,PO])\n",
    "\n",
    "# Bond list #\n",
    "\n",
    "bond_list = np.array([[0,2],[1,2]])\n"
   ]
  },
  {
   "cell_type": "code",
   "execution_count": 11,
   "id": "f1802bb2",
   "metadata": {},
   "outputs": [],
   "source": [
    "def bond_stiffness_2D(k,m1,m2):\n",
    "    return np.array([[k/(m1**0.5*m1**0.5),0,-k/(m1**0.5*m2**0.5),0],[0,k/(m1**0.5*m1**0.5),0,-k/(m1**0.5*m2**0.5)],[-k/(m1**0.5*m2**0.5),0,k/(m2**0.5*m2**0.5),0],[0,-k/(m1**0.5*m2**0.5),0,k/(m2**0.5*m2**0.5)]])"
   ]
  },
  {
   "cell_type": "code",
   "execution_count": 12,
   "id": "00304039",
   "metadata": {},
   "outputs": [],
   "source": [
    "def hessian_2D(m_list,p_list,b_list,k_list):\n",
    "    hm = np.zeros((m_list.shape[0]*2,m_list.shape[0]*2))\n",
    "    \n",
    "    num_cout = 0\n",
    "    for i,j in bond_list*2:\n",
    "\n",
    "        k_n = bond_stiffness_2D(k_list[num_cout],m_list[int(i/2)],m_list[int(j/2)])\n",
    "        #print(k_n)\n",
    "        hm[i,i:i+2] += k_n[0,0:2]\n",
    "        hm[i,j:j+2] += k_n[0,2:4]\n",
    "        \n",
    "        hm[i+1,i:i+2] += k_n[1,0:2]\n",
    "        hm[i+1,j:j+2] += k_n[1,2:4]\n",
    "        \n",
    "        hm[j,i:i+2] += k_n[2,0:2]\n",
    "        hm[j,j:j+2] += k_n[2,2:4]\n",
    "        \n",
    "        hm[j+1,i:i+2] += k_n[3,0:2]\n",
    "        hm[j+1,j:j+2] += k_n[3,2:4]\n",
    "        \n",
    " \n",
    "    return hm"
   ]
  },
  {
   "cell_type": "code",
   "execution_count": 13,
   "id": "0ec7a853",
   "metadata": {},
   "outputs": [],
   "source": [
    "system_kmatrix = hessian_2D(mass_list,position_list,bond_list,stiffness_list)"
   ]
  },
  {
   "cell_type": "code",
   "execution_count": 14,
   "id": "8fc91eec",
   "metadata": {},
   "outputs": [
    {
     "name": "stdout",
     "output_type": "stream",
     "text": [
      "[[10.    0.    0.    0.   -2.5   0.  ]\n",
      " [ 0.   10.    0.    0.    0.   -2.5 ]\n",
      " [ 0.    0.   10.    0.   -2.5   0.  ]\n",
      " [ 0.    0.    0.   10.    0.   -2.5 ]\n",
      " [-2.5   0.   -2.5   0.    1.25  0.  ]\n",
      " [ 0.   -2.5   0.   -2.5   0.    1.25]]\n"
     ]
    }
   ],
   "source": [
    "print(system_kmatrix)"
   ]
  },
  {
   "cell_type": "code",
   "execution_count": 15,
   "id": "b91ea71e",
   "metadata": {},
   "outputs": [],
   "source": [
    "system_val, system_vec = np.linalg.eig(system_kmatrix)"
   ]
  },
  {
   "cell_type": "code",
   "execution_count": 17,
   "id": "17a9903b",
   "metadata": {},
   "outputs": [
    {
     "data": {
      "text/plain": [
       "array([ 0.00000000e+00,  7.07106781e-01,  0.00000000e+00, -7.07106781e-01,\n",
       "        0.00000000e+00, -2.60649511e-16])"
      ]
     },
     "execution_count": 17,
     "metadata": {},
     "output_type": "execute_result"
    }
   ],
   "source": [
    "system_vec[:,4]"
   ]
  },
  {
   "cell_type": "code",
   "execution_count": null,
   "id": "e0eab544",
   "metadata": {},
   "outputs": [],
   "source": []
  },
  {
   "cell_type": "code",
   "execution_count": null,
   "id": "d5dea1e3",
   "metadata": {},
   "outputs": [],
   "source": []
  },
  {
   "cell_type": "code",
   "execution_count": null,
   "id": "27783dd7",
   "metadata": {},
   "outputs": [],
   "source": []
  }
 ],
 "metadata": {
  "kernelspec": {
   "display_name": "Python 3",
   "language": "python",
   "name": "python3"
  },
  "language_info": {
   "codemirror_mode": {
    "name": "ipython",
    "version": 3
   },
   "file_extension": ".py",
   "mimetype": "text/x-python",
   "name": "python",
   "nbconvert_exporter": "python",
   "pygments_lexer": "ipython3",
   "version": "3.8.8"
  }
 },
 "nbformat": 4,
 "nbformat_minor": 5
}
