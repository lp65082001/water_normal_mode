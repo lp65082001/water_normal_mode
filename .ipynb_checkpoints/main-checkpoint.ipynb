{
 "cells": [
  {
   "cell_type": "code",
   "execution_count": 40,
   "id": "8ba280c0",
   "metadata": {},
   "outputs": [],
   "source": [
    "from sympy import symbols, acos, diff, sin, cos,Derivative"
   ]
  },
  {
   "cell_type": "code",
   "execution_count": 1,
   "id": "63bb6ba1",
   "metadata": {},
   "outputs": [],
   "source": [
    "%matplotlib  inline\n",
    "import numpy as np\n",
    "import matplotlib.pyplot as plt\n",
    "import matplotlib.animation as animation\n",
    "from IPython.display import HTML\n",
    "from plot_animate import frequency, plot_mol_mode"
   ]
  },
  {
   "cell_type": "code",
   "execution_count": 2,
   "id": "2df0d6ea",
   "metadata": {},
   "outputs": [],
   "source": [
    "plt.rcParams['figure.dpi'] = 150\n",
    "plt.rcParams['savefig.dpi'] = 150"
   ]
  },
  {
   "cell_type": "markdown",
   "id": "78b0c62e",
   "metadata": {},
   "source": [
    "three body structure (one dimension)\n",
    "<img src=\"./figure/co2.png\" alt=\"Drawing\" style=\"width: 200px;\"/>\n",
    "https://en.wikipedia.org/wiki/Carbon_dioxide"
   ]
  },
  {
   "cell_type": "code",
   "execution_count": 3,
   "id": "6730bf1c",
   "metadata": {},
   "outputs": [],
   "source": [
    "# System CO2#\n",
    "\n",
    "'''\n",
    "O1:1\n",
    "C:2\n",
    "O2:3\n",
    "'''\n",
    "\n",
    "# Stiffness #\n",
    "KCO1 = 1600\n",
    "KCO2 = 1600\n",
    "\n",
    "stiffness_list = np.array([KCO1,KCO2])\n",
    "#spring_length_list = np.array([LOH1,L0H2])\n",
    "\n",
    "\n",
    "# Mass (index: 1,2....n) #\n",
    "MO1 = 16\n",
    "MC = 12\n",
    "MO2 = 16\n",
    "\n",
    "\n",
    "mass_list = np.array([MO1,MC,MO2])\n",
    "\n",
    "# Position (equilibrium length)#\n",
    "PO1 = [0,0]\n",
    "PC = [1.163,0]\n",
    "PO2 = [2.326,0]\n",
    "\n",
    "\n",
    "position_list = np.array([PO1,PC,PO2])\n",
    "\n",
    "# Bond list #\n",
    "\n",
    "bond_list = np.array([[0,1],[1,2]])\n"
   ]
  },
  {
   "cell_type": "code",
   "execution_count": 4,
   "id": "602e89a5",
   "metadata": {},
   "outputs": [],
   "source": [
    "def bond_stiffness_1D(k,m1,m2):\n",
    "    return np.array([[k/(m1**0.5*m1**0.5),-k/(m1**0.5*m2**0.5)],[-k/(m1**0.5*m2**0.5),k/(m2**0.5*m2**0.5)]])"
   ]
  },
  {
   "cell_type": "code",
   "execution_count": 5,
   "id": "c0ee5e10",
   "metadata": {},
   "outputs": [],
   "source": [
    "def hessian_1D(m_list,p_list,b_list,k_list):\n",
    "    hm = np.zeros((m_list.shape[0],m_list.shape[0]))\n",
    "    \n",
    "    num_cout = 0\n",
    "    for i,j in bond_list:\n",
    "        k_n = bond_stiffness_1D(k_list[num_cout],m_list[i],m_list[j])\n",
    "        \n",
    "        hm[i,i] += k_n[0,0]\n",
    "        hm[i,j] += k_n[0,1]\n",
    "        \n",
    "        hm[j,i] += k_n[1,0]\n",
    "        hm[j,j] += k_n[1,1]\n",
    "        \n",
    "    return hm"
   ]
  },
  {
   "cell_type": "code",
   "execution_count": 6,
   "id": "71a90dd8",
   "metadata": {},
   "outputs": [],
   "source": [
    "system_kmatrix_co2 = hessian_1D(mass_list,position_list,bond_list,stiffness_list)"
   ]
  },
  {
   "cell_type": "code",
   "execution_count": 7,
   "id": "1d04749e",
   "metadata": {},
   "outputs": [
    {
     "name": "stdout",
     "output_type": "stream",
     "text": [
      "[[ 100.         -115.47005384    0.        ]\n",
      " [-115.47005384  266.66666667 -115.47005384]\n",
      " [   0.         -115.47005384  100.        ]]\n"
     ]
    }
   ],
   "source": [
    "# hessian matrix (stiffness matrix)\n",
    "print(system_kmatrix_co2)"
   ]
  },
  {
   "cell_type": "code",
   "execution_count": 8,
   "id": "99cb42ba",
   "metadata": {},
   "outputs": [
    {
     "name": "stdout",
     "output_type": "stream",
     "text": [
      "[ 3.66666667e+02  1.00000000e+02 -9.69188486e-15]\n",
      "[[-3.69274473e-01 -7.07106781e-01  6.03022689e-01]\n",
      " [ 8.52802865e-01  2.20031596e-16  5.22232968e-01]\n",
      " [-3.69274473e-01  7.07106781e-01  6.03022689e-01]]\n"
     ]
    }
   ],
   "source": [
    "# solve eignvalue and eignvector #\n",
    "system_co2_val, system_co2_vec = np.linalg.eig(system_kmatrix_co2)\n",
    "print(system_co2_val)\n",
    "print(system_co2_vec)"
   ]
  },
  {
   "cell_type": "markdown",
   "id": "3190b1e4",
   "metadata": {},
   "source": [
    "Frequency\n",
    "<img src=\"./figure/freq.png\" alt=\"Drawing\" style=\"width: 200px;\"/>\n",
    "https://www.colby.edu/chemistry/PChem/notes/NormalModesText.pdf"
   ]
  },
  {
   "cell_type": "code",
   "execution_count": 9,
   "id": "7ad65dfc",
   "metadata": {},
   "outputs": [
    {
     "data": {
      "text/html": [
       "<video width=\"900\" height=\"600\" controls autoplay loop>\n",
       "  <source type=\"video/mp4\" src=\"data:video/mp4;base64,AAAAIGZ0eXBNNFYgAAACAE00ViBpc29taXNvMmF2YzEAAAAIZnJlZQAALPhtZGF0AAACoQYF//+d\n",
       "3EXpvebZSLeWLNgg2SPu73gyNjQgLSBjb3JlIDE2MSAtIEguMjY0L01QRUctNCBBVkMgY29kZWMg\n",
       "LSBDb3B5bGVmdCAyMDAzLTIwMjAgLSBodHRwOi8vd3d3LnZpZGVvbGFuLm9yZy94MjY0Lmh0bWwg\n",
       "LSBvcHRpb25zOiBjYWJhYz0xIHJlZj0zIGRlYmxvY2s9MTowOjAgYW5hbHlzZT0weDM6MHgxMTMg\n",
       "bWU9aGV4IHN1Ym1lPTcgcHN5PTEgcHN5X3JkPTEuMDA6MC4wMCBtaXhlZF9yZWY9MSBtZV9yYW5n\n",
       "ZT0xNiBjaHJvbWFfbWU9MSB0cmVsbGlzPTEgOHg4ZGN0PTEgY3FtPTAgZGVhZHpvbmU9MjEsMTEg\n",
       "ZmFzdF9wc2tpcD0xIGNocm9tYV9xcF9vZmZzZXQ9LTIgdGhyZWFkcz0xOCBsb29rYWhlYWRfdGhy\n",
       "ZWFkcz0zIHNsaWNlZF90aHJlYWRzPTAgbnI9MCBkZWNpbWF0ZT0xIGludGVybGFjZWQ9MCBibHVy\n",
       "YXlfY29tcGF0PTAgY29uc3RyYWluZWRfaW50cmE9MCBiZnJhbWVzPTMgYl9weXJhbWlkPTIgYl9h\n",
       "ZGFwdD0xIGJfYmlhcz0wIGRpcmVjdD0xIHdlaWdodGI9MSBvcGVuX2dvcD0wIHdlaWdodHA9MiBr\n",
       "ZXlpbnQ9MjUwIGtleWludF9taW49MjAgc2NlbmVjdXQ9NDAgaW50cmFfcmVmcmVzaD0wIHJjX2xv\n",
       "b2thaGVhZD00MCByYz1jcmYgbWJ0cmVlPTEgY3JmPTIzLjAgcWNvbXA9MC42MCBxcG1pbj0wIHFw\n",
       "bWF4PTY5IHFwc3RlcD00IGlwX3JhdGlvPTEuNDAgYXE9MToxLjAwAIAAABjpZYiEAD///vdonwKb\n",
       "WkN6gOSVxSXbT4H/q2dwfI/pAwAAAwAAAwAAAwAAKNJFyVxbG02Tk4AAAAMAdEAKgANxeODE/o2+\n",
       "YAWyQCD5kgKXd1ZQljs31rYsCwPtC9rpPMZlkCFtoOlUBH5lakvt5nh/qbS0dqVbu5RyUarSZ/6y\n",
       "OZWmmpCU9FQB+7v+zMkAEpL4U7URC07HMlUGttcCXi/U4IpAm4IwrCEGytKEkC4WTdHv154eSg28\n",
       "lpn7Ft9odmllTaNJoDZjBI8UiGTdKovv2cv2uxyrCEYB+i548bM6usEjtXZNoBSAPacpr3dBMmFq\n",
       "Z6E+W0DfLs9Jj5HgZNy+8ybe91oBz0riDzhaU//9Mnir02WEwWaVUScRCx2RpnuAsyCvPnYWm34w\n",
       "QztyD3hmgf9OqQxkV/NiK7PbUa6tT9aWW2A/0A6J/0XyCQOqQJXf4P5fE1xyyhWqg11YLRahSmAA\n",
       "5m/axJwRVd0iHDkNHyk/lz+qme/ZhTKjT7i0Ti+5fH3kpHY+sfsnVutv6SmzgAepXwdSWCIwAAGQ\n",
       "gZn+FMGiMWBVc7tZhLfgzcUvsB+6/tJY1l+Ck+JxstLIsCDMpGVCHCqbtnY1/yFOeo/BjECO7Sjc\n",
       "YI/n/84HN5ar7JssXs58FiRRuRntbAgmNm2NaKBK0QZUPOe5m7OINsHnhMTmCeW9965vGXT3rwTL\n",
       "hYSO4r9918kyGuabojRnmzn5YN6SzYGnWmKXFZDFpVmQnTWN7eidRj5hLzARuzwOs8ah4ca+9CPM\n",
       "FVwp+4aYHaCzAAqt1qaHSHFA/e4rqB2J79xlCiMgSZvMCeAr9RjR+PN139iPDX0Z2LPpJxBZR25f\n",
       "5xOaqVlwS2QJoshLBPdmpOb1fEyLXX9iNqdcNFKIAdZRWAA6Oh/Dlsi6d+v9+TsPZqXjzUIYWqsi\n",
       "GdJOAHuZGdZdgHElWOdb1vC5xagOslXKnKJdXrE2zD5DWFCZh5VFpBukXakeXtXncQRHPB7BCcPG\n",
       "XWeZq/T7hQhfMY4AuIgkCdqJAwlsZR0i3TN8i1AZ8vX3ZYJcKdVD3aOJDBQgQrFSbidjtipn/+DR\n",
       "Woa4ILcCa+37gpVf5Gb5+ONzO91KqW3CEQ1hihXsTdTwAHAY/gAgwCb/2H2YoKU2svN7cFOuT8EN\n",
       "WtVWZnyOP0ulAtxV4Et7uMEkuD8U3/SoZjTyoOxflAGUQk3suJcsGEQf7QdhWgYKYcf7yCh9/L9g\n",
       "aLnRcP2NkkdzjD9fhSvkR6ZE2EGg7aidPB9S2O+BjNa3O+B7XQGwusEYzcikccJx85e5khWmTEMX\n",
       "uqopIaMzdz0NeFR12HwrxgDZa6bzLehtd7y9dRfdogsYSUpg0OKf5eaJxB32Gs8U/kHAP9oSCZma\n",
       "+8Oio7Wj6hE/+NYAnX9JQo3EuWH7x6N0m//eJY2mOR9Xb7tjjYRI+3IjRjqDSBqvLJ2qKsvjRg5L\n",
       "rBQvGOnR0RR/u/H0H9qWdmLoAHSh4zhpEKWVcjoS23PUXcia1k3R37WHkdHaASIBiG/fC31BBb0l\n",
       "BroDlr+z2L0db4v+DvlXxstG8LTQ/vib1Rw8GlkjyBl2cSQAEGZGnQ7ZN8Hez2A87Io/FtMhmNNa\n",
       "wNPiLs8yBbehOdMQNwPaY1qt0RNIpR/FV04h0GHwx/3wxO1UH0m8R7L1l8wGPJHOQAUeajNhEh6z\n",
       "mpfWqW5IpzlcY98xUvbDKsG8AAJkAUsRcLuaETpL3F2WtSMNQWndkKPC19xOGnwihUjK6bc7BOtl\n",
       "HXdS/lygmku6BZ+591Y9MAzqDAojsbrTW8ehaA7hL/+5RYEy0D4+/TlbWt/QgjZUpDNuDtcJO6+L\n",
       "EmXCLNzmBfLsBTnmMm4ExNFiCfRPQoS2L9/H/HF/7PtWtGLtQpv9LZkttRnohrOSDz7PjzCCT2K/\n",
       "UjYmigkFk8C4dz++tIABZj5KYOvBzEYYsUaWz6ACX0Cd0hSJw7KHcDhR7+FhBKEzF/JSiP75Q6Fr\n",
       "D6WrPJ4vq5sMfPg73boGcXl6CogqIQgONikBmfDq6pXcaboVlc76jbhwZ3biq91igrYEfvdta5zU\n",
       "sdewo0uElOUOpMCecn58QxT75f0FTfM/9KFrXZGquO+B0i1bNj/iwXC5u26qImSpLiavYO72Qe9V\n",
       "/EsOYwvkfbTuHtklNz7xTzCIx4M/imW7dqFihISZ+nRhtvbcZmzGOVIK38NWM+vyELNBPaxDr6Xy\n",
       "4+01hwWL7RMzdNaHvC76WqUzKa1+Z9q3dYACCDtwAAADALKiR8mt4/JbGWWDAWkutyFzdGnvKTij\n",
       "YtOPHIBTD8RECV/vbI+DjgKjCtNS+D2iKhtS6Nm+dkL3BQIXH1kWxqL7Pk2yrM9/xUzvLkJpmKZY\n",
       "cjCy0KZemGR0ZIvI7e6AMw3gWCZ0yaMp0m47fz58JlaxMwo8OvYyNDKAqP+JjR7+HfLIVjtROg90\n",
       "BEQjxEqoydqKVNAxb+zdukQHdicj0ArKOCtFu/QUDxj0UNXDouMVd2BQH0UXOUlTPCwUrZnbAt2H\n",
       "AKHIYb6cLK/CnweC1lYSUvMepNt46mPp502YGLO/MGgrZdf594YKw7KoTFmOu3niedg3c87Fx07L\n",
       "g8IaRoFg1FmD8dYwoC/XEkhEtsfTaDwr9j8852k3M1iaCyVtt60CIRu8L3uTVFtXQxHPCvqjhl1l\n",
       "PyTcdzCmAQgwaNaNTR9wOAF0z/97ucVdp7H8b8yS9HYtN4XWi9YvpfwVWFro4D1cbcdnKPnZyHWR\n",
       "Wo7hhpvqK9+Nlm4mCEPyD0bbWAf+ofoPZFfd6J9yWkJP6Ubc3fj/Wjf1WlM/GrKWRTH0zkT0Zuwn\n",
       "euWdlcTPv88YuADP65wksgeqAPyOqn+Th29o9m/zfZUIGEa74IjsCBg8gTMPtteGOaCoafn3F8BP\n",
       "NJJY1diPZiyB4LILBEEidxnUv3hYLEhdAgr3RfPRHXB5tx7brAsYsRHZROHePGWa2a4BnupU/RcV\n",
       "xztpXFRWGXKYVlgSOeA6Pqdpk0qtHFl0Na2klB+VHGtsyxmoUms2fDAxgHl90qZKeNhHXpCxhMGN\n",
       "Ls5B4dQr6Xtv+alVz+0oarcdYg4CE8MBjT6gpl7h5ZzUR/NMRDYgDyfmn5GY//9HIMi1DfiOZmlU\n",
       "M1PMJ6nViWFcYK9OgHttYlRX/92GnbbCjlq71jV+0GeMocM1aFwIN7C5nrLK0Pbb+yGLkBZG9GBf\n",
       "ZNk/06QfuzBZl3AOXPeSBZpzndLnuzhvnll0CM3LtufqB1icnnQt2Ml7g3NMxKJQmrrAdju+MNz+\n",
       "W2OAuZuwUlKMer7UXCUIbBztSIhUznM/MuBvzdZimpUl2rgdBsF/DnPmNqdNT7yydY4yqSAkNrzi\n",
       "sFGwGE85VivxP1BNuGPHmlUH03brRZfZYuaPZQGZhTZQ9OKrFkt/9d75Q5tzgX3tJeIVBlZG+qLY\n",
       "zdP2XwqtRHXyjbQRiCy3DFABIg072WC+ej2BYEBecnewyvyNKWFoMfaEkKxMLL1ob+Ppjd4q6gzR\n",
       "1ilYTG9ZhggVQA3Q+hcmRfTBBbUGhQRVNzZZXVJEjbRT5c1YqwNhDYtum6QuJj/HGw+KRCimOy2I\n",
       "zuKImTNfhHlTZonRP4p/RTkK49LMwOAT0ChbOHY+PO4soD9H4m3rdbrY3MyJ4i/UXfzM3JAWjzht\n",
       "zomiuDsDwghyZkZL3aVcKnDABbI2KR6eSNnkrPAttl2+71B2oJUtN2m0R8n0Rx7wLId3GscUOol2\n",
       "x1saH71i6OQKiO48TLwdrauctkojp42p9+CNbRjv4FoUk2Aa9+yXpK9Ga4I/saSTrzzNUAQdCQkH\n",
       "p+uAAEPQcaB11S2ixkH1a2XlHyXTKI0cEKG15IngMv9naN+PLExbgAha8cx+LSs0cwjNEYn8YY5t\n",
       "iN4Cr4JELiOCiP40+b/P/skAZ7o+F33pVnwvSSyCLQKihjIcx9uQBlhrLldgC5FiRLCDQuRZ/7Zp\n",
       "VV7TPRo3W6pAg9x2HOAksxPLmbaTKeD4nJf/dlE7lbC1bNWGeFs9a9tp5aFeAACZpqT9RLV+QGWX\n",
       "B4/uw+AStijX8scv/kH5CY52ouiicTZJFMUS5wu8R6au9FMD8nTHxMD7mPZOGtN3ze/PoJ47oTWk\n",
       "3UqtvTnmHhgsE9Ygic0JtBtewWreVU94Sil/c42i9joB9TdvwPfV4KXpf1SaBXGf4BIzwVSDEoZm\n",
       "3UayTs+/jxLQ2FTrw9UbkI06OZ5VBwaGY9hgQJ/QmMuJH3v0+6iuRZGqL/CqPu6qdix6W0mGs7vg\n",
       "9X6ukIWwoTQQgYLADCXmUtX1/FYlWNH98W7dM4CtIEfyOK011pJFtwlXgRltbRiSBkCfMddcRG3o\n",
       "XJUomrL/CguPlWJyk2s/e6uXVgAAwAAAAwAVdsUt7sG/5IehhSDdwAT4dQRO8hzAhSPTI1hfYuzc\n",
       "EepdIVz32nCHcXSoQSlkFIJcXj4PBqh0AmTGzJIP+pLM0N/UIXuoQsGGKevgghP2aCeQyYW1GDqp\n",
       "RhB8P88HNW5RBGqHi094/zeWJIgjSF2uiKSKaeg6iDA6BVy6AAiMfUOHLBWJhW6X3xlQ5C0fXa7w\n",
       "CvIPQy5eS3AMllorwBoWh3JiHa3uzMFvSCRfQZd+nOZc7IyyiiU499jQ8N2prcPehsUD//zRGeuS\n",
       "RfCp6fEghtm2r5nYY9SIF1gbYTYVRO+u/15RFB+nAAIPI43Oiaak9m7bOjJvdzRDbroBgBFEwreL\n",
       "pSnHedUQQ8V/ofRKMhQiyVxyOpu+/9SAIAcRD3I7CXgIk9e3/0pfvCtfdYM1SwjRTaoZkfLz6N1U\n",
       "suZW9fzSff5bheWgIK3iZu67Feu3T+0MrtDXdrCFxsg4IuoE/KptsqYTqnR2OQNOz1N9gAAABSXf\n",
       "8BceVILCOglbrW206FdeWSCaQhQdHAoIy+ENWaC+cJhnTyipyYaCIH/JXXybPLYtDpAaL9qcu2Bv\n",
       "B07PBu4W2fe58hLCB+3zV8cT6F6WqSD/71nWyGwAKMhMDPznOs156+kPtyhfF+qoTw9DKnbYbOHx\n",
       "pbbpfMibXDHjqZ07sG2BuXHaw4L4OkUMA3Ad89YO2dZlC2YMrcJlzIG/XFCMrCF5k/dlXHSbo7DD\n",
       "mkT1qrNW2GSTMo8fn//syKyHEkXBQvo03Q3ugt+ruYbmQ75nIF265tO17WjXcFo+vC3/k4xnquCx\n",
       "QPkxxketeXnhzxRKK4PCAWkbwtFd3EPmUWkQwC/MsSLzuKa6lsu/HrEb2abQ/gkoMdhZ7qvOtzsZ\n",
       "TQ0o41llPn0vhVQ79lY5oNB/PsQ/P+lWfJmJJ+zI+2Y5GCBUnmbTQ8HcIl19Pi5uF6X+wO8oFeAA\n",
       "AAMAAAMAbdONH9YIyK4n6doRO+odBjpPuL2aafr9t9fwtei/DAgVcOfXqQ3/FtuWO1xD+OoH+B66\n",
       "Paa4SwSwdWEgJLhmBiLyRldzpZalbm6yTQwGZvsq8hl13u0cHCVYL6W8XoiIJ5ZvMvDsXuX9vY3c\n",
       "51Yxc+WVVnot3L7EVyIDQBDAkrkJG/XgpCD6P/pyskhdhxyDDS48vLrGOL/HHuar4rIPFYET9LKu\n",
       "1c4Lw79CAYkzVG/K2ab60mz6XVF2Bi7TR2GGnAZWKX2e//7Q/0GVJPOoVwmdnK+/+SYDcq1jsf5f\n",
       "iyvZ8C2w5fylAU+OE+4P+CYD8xibbk2aANOI9Ms9mfCBZ+nmKo8HbvscreoenHtKD02zQg2AujFO\n",
       "KPtVobXHp9YP0z4KAzt2YcD8nG9QGfAR/9Rno7rgeTnXgRxbND3p6PrQ9spbcPdldt/IMRt+r/S8\n",
       "cbq45OedfoRlAH3xVGwyPQDNSk33esuyAjzYPsfMHuXhK09aWEorBoTDr2KY63NApSoPTSWC0JW4\n",
       "fZejyLjIWvQuRNHjhqso1em3/F+H+nHwW81HHl7WfpjcoAv9AnlOEvq7vdxk+N3Y33fBn7pjbTy+\n",
       "2+PzesN5GrbgS5W0FV59E9IHvAYi+ieC79J9GkapBoAlkHCgBxkrWAO5IOhNm/vgtgARpQaBj9G6\n",
       "e50ebFmscviH9ZaPUeyTcO+K5TrnX+MCig6rGGrSvZEnMBoroigmOOtcpAxh1Hq9gpEizQLckYV+\n",
       "kQ/XjfDEd7fBKRurdNtbnVCjsRs5DbkhXEEo6NM3a/Yd9CbW1sLPZLCMczJ6syugbh/Biy37yJXi\n",
       "3WmBfEdlG9P+xAf0A8RROvY0SbRY6BkuTBV18w8MLEVeOlEYKEcydpkrDLA12A8rvJC39NZPPTgQ\n",
       "he0NK+LdFufhx2wxMDhl5ks6K8t/qboP5U3yDHKn2fR050vueSbxIoaQjDQ3MNKCP7CirdLP2mkt\n",
       "G3ImbXPgRs1V8N4PAa4MwUOX2Dr3uYqwUG0PKFD2dkC5cLM7dDOTDCqecV5XyQCdWhFkMRH+zvuV\n",
       "8sW/vSS713cpzUOH33GnURose5Sz78HtDkB3oTddY45Ylmdpv+ZCHv7omPXCfr38Q10NKUsBpeDx\n",
       "U1LQUSUYiHh3YtZ0Yc7hNAvG37Tz7Goil49j6g7Mq3VyLEvl+bUj26CoZcebnurHS0/McTQTJzBv\n",
       "7W3ZZa16vJCfsWDZdbi1FC/OOTJFvKu45/acvKXer9xIriXdR98ifEzE6Wcl9OjNk5mGunUnK3W8\n",
       "uTTuzE8PnIUnFuvh1eoWzQQHetfYV12jH7ump4hSHFXuLbBXrKuBcMW96MGYremKSX2rzgOE9h0i\n",
       "0jGRVpDCrfd6eQsWhaMWEU2heXImY4LfnPI6ED6TVXxnWpsxiAFqoXwEglO6rd5xUT9iWcT8T0e5\n",
       "zB/f4x9JLUpGmN+YOr2bQ1yKI4U6330VEtSB53hOmQlqQ4RbRwiG5GUaiwZjQg6PdxAxw8QXe7Gv\n",
       "xOLH0afprj8sFUSQSmgR4G9fkpBoP/sLp30+v1ooPuud6BiprShNoQ30xgHlWkII6FzA3Wq2MPL3\n",
       "c/dMEFQj2vhVm32BiFkqT6HQbfpNNBvpgA8suOp7x8vpu1mmDTZMqK21frtGkNI3sv6no85FH/Pt\n",
       "Lvxu0zmn33NaFRXahb9ykSL5kYqTFzrVr8I6sh+A4BWLfHAXcWN+YXU6z5y2b+T/fjA3AKht6QF1\n",
       "ugQRK04PlSRc3wZEP6UvvtOWFqAzXuDfmcnlf4X8hzIdzc93odGAHqF+c+1/mEj3xhNuolxyxUxS\n",
       "TEq963QArE0t8X4pN6aW9Vh+bIin/z3nusLrmo90qOS5vipJ7yYl+qM3kxI35M55VXmUAmQeQbsn\n",
       "ZXwF0YK/yZ4p+9AtMYWBueqLyejBFW7Ty6PfnPFHA53Nao8oFVLbmaXeg0jbmExpg5NpDp9QWmbP\n",
       "xB8Hq85Gx38PdABoGKDOU/LEXNffcUpTSblwIdXAwMSpWKetY0VOn6QzK5vGFhCEdXX7q6Hry6i+\n",
       "B5zZUy6Wpf/clugRPpxEQqkJwb4LIf/4OLsZPj7BfkYFyNYFJQOgUFDRUvIfBit6nvd+kbgAJzC0\n",
       "i/ws//0e4eQm8TsJuY/COppJnt1mRjl08atJKIBL9GK8exVf/8iMyZc9nOSkwBKsOW5oe8Ux/n7c\n",
       "Y5YFoMG3yE0xgs0TkgKzJPSudTYfRBQy65wnINvjU08ULFjND5IC2LbbJsGFizX5TMnkxACM9DdE\n",
       "+RJYT+3Ugl++Vc0CX3ihay9da/6IFRbwQE0ukc69fo2/z/H3MfbXEtbm6StguIdKrP/zZSSNmMct\n",
       "uMjXmnYDE3/nppPFbPhZlt0PyiFOlijWjNDzAdf8SyaIFmx1AoubdP6VJ06tPUkcSFPZzgd+lr4W\n",
       "XzrgJSqesGx67DfgcPn50Gg/uk8nkQgcx15a8lKCRTqgnlxPWxqsDr68QcDK0C8PYgjb8/G/T05V\n",
       "GI+sii9R005yfEk0kmcqgM7/J0CXc9D63LSP3iC0g6Mr2vBwJ679vEa9sTE0VhU9lO3P7ty45C/m\n",
       "TjATJgD3QaGkl5a0KnhXGdTAAoW1KMpxzx63urqRLarF7lQfSyz1bEQYAfyukLz7f/4uwFG6gvZM\n",
       "1EButL8ldDDf4QBUoHhaXUupUUCiiW0rig4QyEEd+74HcSBlCH/ZSlVdhCu7eMEIDVaw1lFi5ZvK\n",
       "2vzefxbZ1rl5Roa3q+J/YrKh11wJaBHbRcpjxaG3SSUqwxTRNg1VjZujzJquagpgFlrT5y4CNtn9\n",
       "fMr7UIvgPE9D8yeZe7wSLGLKx/zTeO7Tb6qb27TpXmj9BxuwVidD4JAo8v/8zzqdX3vnz0vNNQdw\n",
       "ttu6kU3vynFYqSQWFXMIyaeejuiCFhEY5D41hcA7BhlRCTz/Q83CYiLa5q1fEY7FdbMxwdRwIDu8\n",
       "vUW4SNc1dMiA5+2yDvYsfdkJiuxTl/KV6qqZlEC4UFLxlxvMzbjxk8bcNVJ+RJJyjysLowpYwODo\n",
       "YbhWugCKMLrLnZr9Gben8rfwXjx57GV8PVr4QcuPuHitRKs1zkIA9+2g6rGUA7v9R2QMe1L7aiQy\n",
       "/Uoi4jusV3lh/f533rrjVlmQc6AAYct+ADBgAAADAAADAAADAnMAAAE5QZokbEP//qmWAAAIAu44\n",
       "ARKfHHdpmZdq1JEThENkrPQ8C7hKospaf53T/SvzvbTJ5VLGY+FQLErMGikuv44Z57akHEgJ/znC\n",
       "2GaBvh9wKZ2+mQTnNp7ZRoacrkE/g9/fGEJ77vu+YyllPouYEnmMj9RtifMHTdXt+GSycbQxzEzw\n",
       "TpczrHBwBQLukHPnUOrr5U+RKMvzjyAwxNPCCrv7/PMFl7HJEa6LEhFYSmDEEyCPc4h9aTWK/tEF\n",
       "cNnyl7v2dDnWMChPg+x2cQGQIm7TzNMFcR/wOvypYT0PY03X8ztYnV3ZY9In+t8Rp/nAUXO6qaIL\n",
       "0bqSQWeEG3ewjoGc3sL18bSob2fNfaYVP3JW/foWmqt6Lwg3sxFiHIYAaJQgpZ6IrTUnjfbc1Yf/\n",
       "/IA1fd43bn1HOQBGwAAAADtBnkJ4hn8AAHscfhWAPNuK6QYDe9VwwyKNks61xmCZ4VTqkRkL8AIj\n",
       "YLgM2QktSUl1+pNd46+BHqADjwAAADIBnmF0Qr8AAA0v9G4D4VqKO1yBNIWI5fcxRYvLC7oPwAGg\n",
       "csUo8FxhQuGFT7enShAD5gAAAB0BnmNqQr8AAAMAAAMAAAMAAAMAFisFSioOzJFxYQAAAFtBmmhJ\n",
       "qEFomUwIf//+qZYAAAMAAAMACgdhjQhqviaRE0Fyx8YzFKqnE5wOiR6XHsRq/jrtxaF/sq1hWe9l\n",
       "bUl+UCyDASYu7d0TB0xncQjH0k9prXC3QE2UNcFTAAAAJEGehkURLDP/AAB8WCVLAAAVl9chwf8n\n",
       "DKduAAX1xCDj3dQP8QAAAB0BnqV0Qr8AAAMAAAMAAAMAAAMAFiTJAmT0Of11QQAAAB8BnqdqQr8A\n",
       "AAMAAAMACCyE8TLRKwAAChOyPYpC1zKgAAAALkGarEmoQWyZTAh///6plgAAAwAAAwAKBzmxLfnp\n",
       "ODFJp3O/rEIH/wAAAwAAIeAAAAAgQZ7KRRUsM/8AAHxYJUsAAAMAAAMAADiuOGRLkKHW1mEAAAAd\n",
       "AZ7pdEK/AAADAAADAAADAAADABYkyQJk9Dn9dUAAAAAdAZ7rakK/AAADAAADAAADAAADABYrBUoq\n",
       "DsyRcWAAAABPQZrwSahBbJlMCH///qmWAAADAAADAAqbGTpQBeF0CBre7/LQ1nqimtR3i6RkA6Hn\n",
       "B1J6FFpZ6+WIURlH5QK9Sy5zoT7zYdZr9f7C/QC0gQAAACJBnw5FFSwz/wAAfFglSwAALEaj9bIv\n",
       "mAAAPi0KKZdbgBJxAAAAHwGfLXRCvwAAAwAAAwAQ3wZAp+ErAAAE5XtbijlqRcEAAAAdAZ8vakK/\n",
       "AAADAAADAAADAAADABYrBUoqDsyRcWAAAAAgQZs0SahBbJlMCH///qmWAAADAAADAAADAAADAAAD\n",
       "A0IAAAAgQZ9SRRUsM/8AAHxYJUsAAAMAAAMAADiuOGRLkKHW1mEAAAAdAZ9xdEK/AAADAAADAAAD\n",
       "AAADABYkyQJk9Dn9dUAAAAAdAZ9zakK/AAADAAADAAADAAADABYrBUoqDsyRcWAAAABSQZt4SahB\n",
       "bJlMCH///qmWAAADAAADAAUnf8ggBVhDNkFqaXoZTugRAf5N5CeAJeg9pXGHPO6an+qsArIwkFkV\n",
       "Bens7aOnwgF40ZZKC0H4bBeBUwAAACJBn5ZFFSwz/wAAfFglSwAAFZNR+tkXzAAAP40KKZdbgBJw\n",
       "AAAAHwGftXRCvwAAAwAAAwAIK5saEuMuQAACgsEcnIWOfMEAAAAdAZ+3akK/AAADAAADAAADAAAD\n",
       "ABYrBUoqDsyRcWEAAAAmQZu8SahBbJlMCH///qmWAAADAAADAAoGkvoPvqLfuwAAAwAAFfAAAAAg\n",
       "QZ/aRRUsM/8AAHxYJUsAAAMAAAMAADiuOGRLkKHW1mEAAAAdAZ/5dEK/AAADAAADAAADAAADABYk\n",
       "yQJk9Dn9dUAAAAAdAZ/7akK/AAADAAADAAADAAADABYrBUoqDsyRcWEAAABMQZvgSahBbJlMCH//\n",
       "/qmWAAADAAADAAqVdZHZEEAN7eVA7ifxwBvNrJIP65GiQSrfji57b9OM1uqooBN4WHC87C+MdLBv\n",
       "xWGjNmDZgQAAACJBnh5FFSwz/wAAfFglSwAALEaj9bIvmAAAPi0KKZdbgBJwAAAAHwGePXRCvwAA\n",
       "AwAAAwAQ1zY0JcZcgAACcQkcnIWOfMAAAAAdAZ4/akK/AAADAAADAAADAAADABYrBUoqDsyRcWEA\n",
       "AABKQZokSahBbJlMCH///qmWAAADAAADAAUnf8ggBQLyxjYMENvkp2Q8fBejULznR5KwX0ktjGjs\n",
       "C+RCpGhirqe8Os2VCcm9zzvUys4AAAAiQZ5CRRUsM/8AAHxYJUsAABWX1yHB/yVQAAJQYD5hdYkB\n",
       "WwAAAB0BnmF0Qr8AAAMAAAMAAAMAAAMAFiTJAmT0Of11QAAAAB8BnmNqQr8AAAMAAAMACC67l1Re\n",
       "7rAAAKCsgFOQq0pJAAAAKkGaaEmoQWyZTAh///6plgAAAwAAAwAKBpMBe8YgCskt7Zr8YAAAAwAV\n",
       "UQAAACBBnoZFFSwz/wAAfFglSwAAAwAAAwAAOK44ZEuQodbWYQAAAB0BnqV0Qr8AAAMAAAMAAAMA\n",
       "AAMAFiTJAmT0Of11QQAAAB0BnqdqQr8AAAMAAAMAAAMAAAMAFisFSioOzJFxYAAAAE9BmqxJqEFs\n",
       "mUwIf//+qZYAAAMAAAMACpb8EEAKlPXsk5j4rLUp92mkIR/+M3C53w5DrhX4vGrW0ntAGMUHGjee\n",
       "qUrjZQ/qE6VW2gCzi8JuAAAAIkGeykUVLDP/AAB8WCVLAAAsT65Dg/5KoAACQGA+YXWJAVsAAAAd\n",
       "AZ7pdEK/AAADAAADAAADAAADABYkyQJk9Dn9dUAAAAAfAZ7rakK/AAADAAADABDZCeJlolYAAAnM\n",
       "0j2KQtcyoAAAACBBmvBJqEFsmUwIf//+qZYAAAMAAAMAAAMAAAMAAAMDQwAAACBBnw5FFSwz/wAA\n",
       "fFglSwAAAwAAAwAAOK44ZEuQodbWYQAAAB0Bny10Qr8AAAMAAAMAAAMAAAMAFiTJAmT0Of11QQAA\n",
       "AB0Bny9qQr8AAAMAAAMAAAMAAAMAFisFSioOzJFxYAAAAFVBmzRJqEFsmUwIf//+qZYAAAMAAAMA\n",
       "BSd/yCAHS6ZqCohW3GFo88XMn1KjjFeVPWn4PZ9U0UrEbsPKFwZEh+fbxYciW8TttW8GMZF76Y+9\n",
       "Muw+wBUgAAAAIkGfUkUVLDP/AAB8WCVLAAAVk1H62RfMAAA/jQopl1uAEnEAAAAfAZ9xdEK/AAAD\n",
       "AAADAAgvgyBT8JWAAAUI61uKOWpFwAAAAB0Bn3NqQr8AAAMAAAMAAAMAAAMAFisFSioOzJFxYAAA\n",
       "ACtBm3hJqEFsmUwIf//+qZYAAAMAAAMACgaS+gtL2gCLO1t4XdgAAAMAALiBAAAAIEGflkUVLDP/\n",
       "AAB8WCVLAAADAAADAAA4rjhkS5Ch1tZgAAAAHQGftXRCvwAAAwAAAwAAAwAAAwAWJMkCZPQ5/XVB\n",
       "AAAAHQGft2pCvwAAAwAAAwAAAwAAAwAWKwVKKg7MkXFhAAAAVUGbvEmoQWyZTAh///6plgAAAwAA\n",
       "AwAKlvwQQAqzxyaXtSvr0DlVCwuLabfPLl72SG7Bct8qyekDespohH9O0+5QFQr2KBBSuNlD+oTp\n",
       "VbaALOLwm4AAAAAiQZ/aRRUsM/8AAHxYJUsAACxGo/WyL5gAAD4tCimXW4AScQAAAB8Bn/l0Qr8A\n",
       "AAMAAAMAENc2NCXGXIAAAnEJHJyFjnzAAAAAHQGf+2pCvwAAAwAAAwAAAwAAAwAWKwVKKg7MkXFh\n",
       "AAAAUkGb4EmoQWyZTAh///6plgAAAwAAAwAFKT2bN3gCcw5R1gGl8/w3ukpUk9Fc0hOQWnHw/qfk\n",
       "AtEfZpsrM/0NPXEftwFkdzqzDuIY+9wYZStAAqUAAAAiQZ4eRRUsM/8AAHxYJUsAABWX1yHB/yVQ\n",
       "AAJQYD5hdYkBWwAAAB0Bnj10Qr8AAAMAAAMAAAMAAAMAFiTJAmT0Of11QAAAAB8Bnj9qQr8AAAMA\n",
       "AAMACC67l1Re7rAAAKCsgFOQq0pJAAAAIkGaJEmoQWyZTAh///6plgAAAwAAAwAKBpL5xAAAAwAA\n",
       "yoAAAAAgQZ5CRRUsM/8AAHxYJUsAAAMAAAMAADiuOGRLkKHW1mEAAAAdAZ5hdEK/AAADAAADAAAD\n",
       "AAADABYkyQJk9Dn9dUAAAAAdAZ5jakK/AAADAAADAAADAAADABYrBUoqDsyRcWEAAABRQZpoSahB\n",
       "bJlMCH///qmWAAADAAADAAqW/BBACMjLLIJueejIx9mhlVaSquBVH4KuJaGs60TOXuvz6CGQxMa2\n",
       "9igQUrjZQ/qE6VW2gCzi8JuBAAAAIkGehkUVLDP/AAB8WCVLAAAsT65Dg/5KoAACQGA+YXWJAVsA\n",
       "AAAdAZ6ldEK/AAADAAADAAADAAADABYkyQJk9Dn9dUEAAAAfAZ6nakK/AAADAAADABDddy6ovd1g\n",
       "AACcPoBTkKtKSAAAACBBmqxJqEFsmUwIf//+qZYAAAMAAAMAAAMAAAMAAAMDQgAAACBBnspFFSwz\n",
       "/wAAfFglSwAAAwAAAwAAOK44ZEuQodbWYQAAAB0Bnul0Qr8AAAMAAAMAAAMAAAMAFiTJAmT0Of11\n",
       "QAAAAB0BnutqQr8AAAMAAAMAAAMAAAMAFisFSioOzJFxYAAAAEJBmvBJqEFsmUwIf//+qZYAAAMA\n",
       "AAMABSd/yCADQR7eoC3ux88ygKX87oo34uFpoaeiwMHIL+erYtogo9e5t8+MfSEAAAAiQZ8ORRUs\n",
       "M/8AAHxYJUsAABWX1yHB/yVQAAJQYD5hdYkBWwAAAB0Bny10Qr8AAAMAAAMAAAMAAAMAFiTJAmT0\n",
       "Of11QQAAAB8Bny9qQr8AAAMAAAMACCyE8TLRKwAAChOyPYpC1zKgAAAAIEGbNEmoQWyZTAh///6p\n",
       "lgAAAwAAAwAAAwAAAwAAAwNCAAAAIEGfUkUVLDP/AAB8WCVLAAADAAADAAA4rjhkS5Ch1tZhAAAA\n",
       "HQGfcXRCvwAAAwAAAwAAAwAAAwAWJMkCZPQ5/XVAAAAAHQGfc2pCvwAAAwAAAwAAAwAAAwAWKwVK\n",
       "Kg7MkXFgAAAAVUGbeEmoQWyZTAh3//6plgAAAwAAAwAKlq7lwAsbUuP8kdqCVpvfzU2tCaUUy4lq\n",
       "nG/Ak7Y3EAWxOO+RLxRZqBcAcf6oTqgj4B6JBO5DvkytLrz/CbkAAAAiQZ+WRRUsM/8AAHxYJUsA\n",
       "ACxGo/WyL5gAAD4tCimXW4AScAAAAB8Bn7V0Qr8AAAMAAAMAEN8GQKfhKwAABOV7W4o5akXBAAAA\n",
       "HQGft2pCvwAAAwAAAwAAAwAAAwAWKwVKKg7MkXFhAAAAIEGbvEmoQWyZTAh3//6plgAAAwAAAwAA\n",
       "AwAAAwAAAwNCAAAAIEGf2kUVLDP/AAB8WCVLAAADAAADAAA4rjhkS5Ch1tZhAAAAHQGf+XRCvwAA\n",
       "AwAAAwAAAwAAAwAWJMkCZPQ5/XVAAAAAHQGf+2pCvwAAAwAAAwAAAwAAAwAWKwVKKg7MkXFhAAAA\n",
       "OEGb4EmoQWyZTAhv//6nhAAAAwAAAwAKNkyoK/AAPf11QK9SRHStWvuGdBaX5LqWKZI2GzCEXKTh\n",
       "AAAAIkGeHkUVLDP/AAB8WCVLAAAVk1H62RfMAAA/jQopl1uAEnAAAAAfAZ49dEK/AAADAAADAAgr\n",
       "mxoS4y5AAAKCwRychY58wAAAAB0Bnj9qQr8AAAMAAAMAAAMAAAMAFisFSioOzJFxYQAAAB9BmiNJ\n",
       "qEFsmUwIV//+OEAAAAMAAAMAAAMAAAMAAGLAAAAAH0GeQUUVLC//AACs5FvYAAADAAADAACC/LQp\n",
       "MgJzLBMAAAAdAZ5iakK/AAADAAADAAADAAADABYrBUoqDsyRcWAAAAfcbW9vdgAAAGxtdmhkAAAA\n",
       "AAAAAAAAAAAAAAAD6AAAE4gAAQAAAQAAAAAAAAAAAAAAAAEAAAAAAAAAAAAAAAAAAAABAAAAAAAA\n",
       "AAAAAAAAAABAAAAAAAAAAAAAAAAAAAAAAAAAAAAAAAAAAAAAAAAAAgAABwZ0cmFrAAAAXHRraGQA\n",
       "AAADAAAAAAAAAAAAAAABAAAAAAAAE4gAAAAAAAAAAAAAAAAAAAAAAAEAAAAAAAAAAAAAAAAAAAAB\n",
       "AAAAAAAAAAAAAAAAAABAAAAAA4QAAAJYAAAAAAAkZWR0cwAAABxlbHN0AAAAAAAAAAEAABOIAAAE\n",
       "AAABAAAAAAZ+bWRpYQAAACBtZGhkAAAAAAAAAAAAAAAAAAAoAAAAyABVxAAAAAAALWhkbHIAAAAA\n",
       "AAAAAHZpZGUAAAAAAAAAAAAAAABWaWRlb0hhbmRsZXIAAAAGKW1pbmYAAAAUdm1oZAAAAAEAAAAA\n",
       "AAAAAAAAACRkaW5mAAAAHGRyZWYAAAAAAAAAAQAAAAx1cmwgAAAAAQAABelzdGJsAAAAuXN0c2QA\n",
       "AAAAAAAAAQAAAKlhdmMxAAAAAAAAAAEAAAAAAAAAAAAAAAAAAAAAA4QCWABIAAAASAAAAAAAAAAB\n",
       "AAAAAAAAAAAAAAAAAAAAAAAAAAAAAAAAAAAAAAAAAAAAGP//AAAAN2F2Y0MBZAAf/+EAGmdkAB+s\n",
       "2UDkE3nlhAAAAwAEAAADAKA8YMZYAQAGaOvjyyLA/fj4AAAAABx1dWlka2hA8l8kT8W6OaUbzwMj\n",
       "8wAAAAAAAAAYc3R0cwAAAAAAAAABAAAAZAAAAgAAAAAUc3RzcwAAAAAAAAABAAAAAQAAAyhjdHRz\n",
       "AAAAAAAAAGMAAAABAAAEAAAAAAEAAAoAAAAAAQAABAAAAAABAAAAAAAAAAEAAAIAAAAAAQAACgAA\n",
       "AAABAAAEAAAAAAEAAAAAAAAAAQAAAgAAAAABAAAKAAAAAAEAAAQAAAAAAQAAAAAAAAABAAACAAAA\n",
       "AAEAAAoAAAAAAQAABAAAAAABAAAAAAAAAAEAAAIAAAAAAQAACgAAAAABAAAEAAAAAAEAAAAAAAAA\n",
       "AQAAAgAAAAABAAAKAAAAAAEAAAQAAAAAAQAAAAAAAAABAAACAAAAAAEAAAoAAAAAAQAABAAAAAAB\n",
       "AAAAAAAAAAEAAAIAAAAAAQAACgAAAAABAAAEAAAAAAEAAAAAAAAAAQAAAgAAAAABAAAKAAAAAAEA\n",
       "AAQAAAAAAQAAAAAAAAABAAACAAAAAAEAAAoAAAAAAQAABAAAAAABAAAAAAAAAAEAAAIAAAAAAQAA\n",
       "CgAAAAABAAAEAAAAAAEAAAAAAAAAAQAAAgAAAAABAAAKAAAAAAEAAAQAAAAAAQAAAAAAAAABAAAC\n",
       "AAAAAAEAAAoAAAAAAQAABAAAAAABAAAAAAAAAAEAAAIAAAAAAQAACgAAAAABAAAEAAAAAAEAAAAA\n",
       "AAAAAQAAAgAAAAABAAAKAAAAAAEAAAQAAAAAAQAAAAAAAAABAAACAAAAAAEAAAoAAAAAAQAABAAA\n",
       "AAABAAAAAAAAAAEAAAIAAAAAAQAACgAAAAABAAAEAAAAAAEAAAAAAAAAAQAAAgAAAAABAAAKAAAA\n",
       "AAEAAAQAAAAAAQAAAAAAAAABAAACAAAAAAEAAAoAAAAAAQAABAAAAAABAAAAAAAAAAEAAAIAAAAA\n",
       "AQAACgAAAAABAAAEAAAAAAEAAAAAAAAAAQAAAgAAAAABAAAKAAAAAAEAAAQAAAAAAQAAAAAAAAAB\n",
       "AAACAAAAAAEAAAoAAAAAAQAABAAAAAABAAAAAAAAAAEAAAIAAAAAAQAACgAAAAABAAAEAAAAAAEA\n",
       "AAAAAAAAAQAAAgAAAAABAAAKAAAAAAEAAAQAAAAAAQAAAAAAAAABAAACAAAAAAEAAAgAAAAAAgAA\n",
       "AgAAAAAcc3RzYwAAAAAAAAABAAAAAQAAAGQAAAABAAABpHN0c3oAAAAAAAAAAAAAAGQAABuSAAAB\n",
       "PQAAAD8AAAA2AAAAIQAAAF8AAAAoAAAAIQAAACMAAAAyAAAAJAAAACEAAAAhAAAAUwAAACYAAAAj\n",
       "AAAAIQAAACQAAAAkAAAAIQAAACEAAABWAAAAJgAAACMAAAAhAAAAKgAAACQAAAAhAAAAIQAAAFAA\n",
       "AAAmAAAAIwAAACEAAABOAAAAJgAAACEAAAAjAAAALgAAACQAAAAhAAAAIQAAAFMAAAAmAAAAIQAA\n",
       "ACMAAAAkAAAAJAAAACEAAAAhAAAAWQAAACYAAAAjAAAAIQAAAC8AAAAkAAAAIQAAACEAAABZAAAA\n",
       "JgAAACMAAAAhAAAAVgAAACYAAAAhAAAAIwAAACYAAAAkAAAAIQAAACEAAABVAAAAJgAAACEAAAAj\n",
       "AAAAJAAAACQAAAAhAAAAIQAAAEYAAAAmAAAAIQAAACMAAAAkAAAAJAAAACEAAAAhAAAAWQAAACYA\n",
       "AAAjAAAAIQAAACQAAAAkAAAAIQAAACEAAAA8AAAAJgAAACMAAAAhAAAAIwAAACMAAAAhAAAAFHN0\n",
       "Y28AAAAAAAAAAQAAADAAAABidWR0YQAAAFptZXRhAAAAAAAAACFoZGxyAAAAAAAAAABtZGlyYXBw\n",
       "bAAAAAAAAAAAAAAAAC1pbHN0AAAAJal0b28AAAAdZGF0YQAAAAEAAAAATGF2ZjU4LjQ1LjEwMA==\n",
       "\">\n",
       "  Your browser does not support the video tag.\n",
       "</video>"
      ],
      "text/plain": [
       "<IPython.core.display.HTML object>"
      ]
     },
     "execution_count": 9,
     "metadata": {},
     "output_type": "execute_result"
    }
   ],
   "source": [
    "# Acorrding different eignvalue (frequency) to select different eignvector (modesharp) #\n",
    "modeshape = 1\n",
    "plot_mol_mode(position_list,frequency(system_co2_val[modeshape]),system_co2_vec[:,modeshape])"
   ]
  },
  {
   "cell_type": "markdown",
   "id": "45811b5f",
   "metadata": {},
   "source": [
    "three body structure (two dimensions)\n",
    "<img src=\"./figure/question.png\" alt=\"Drawing\" style=\"width: 200px;\"/>\n",
    "https://www.khanacademy.org/science/ap-biology/chemistry-of-life/structure-of-water-and-hydrogen-bonding/a/hs-water-and-life-review"
   ]
  },
  {
   "cell_type": "code",
   "execution_count": 10,
   "id": "6ae2c685",
   "metadata": {},
   "outputs": [],
   "source": [
    "# System H2O# \n",
    "# strength and bending #\n",
    "\n",
    "'''\n",
    "H1:1\n",
    "H2:2\n",
    "O:3\n",
    "'''\n",
    "\n",
    "# Stiffness #\n",
    "KOH1 = 10\n",
    "KOH2 = 10\n",
    "\n",
    "#LOH1 = 0.5\n",
    "#LOH2 = 0.5\n",
    "\n",
    "stiffness_list = np.array([KOH1,KOH2])\n",
    "#spring_length_list = np.array([LOH1,L0H2])\n",
    "\n",
    "\n",
    "# Mass #\n",
    "MH1 = 1\n",
    "MH2 = 1\n",
    "MO = 16\n",
    "\n",
    "mass_list = np.array([MH1,MH2,MO])\n",
    "\n",
    "# Position #\n",
    "PH1 = [0,0]\n",
    "PH2 = [2,0]\n",
    "PO = [0.5,1.5]\n",
    "\n",
    "position_list = np.array([PH1,PH2,PO])\n",
    "\n",
    "# Bond list #\n",
    "\n",
    "bond_list = np.array([[0,2],[1,2]])\n"
   ]
  },
  {
   "cell_type": "code",
   "execution_count": 11,
   "id": "f1802bb2",
   "metadata": {},
   "outputs": [],
   "source": [
    "def bond_stiffness_2D(k,m1,m2):\n",
    "    return np.array([[k/(m1**0.5*m1**0.5),0,-k/(m1**0.5*m2**0.5),0],[0,k/(m1**0.5*m1**0.5),0,-k/(m1**0.5*m2**0.5)],[-k/(m1**0.5*m2**0.5),0,k/(m2**0.5*m2**0.5),0],[0,-k/(m1**0.5*m2**0.5),0,k/(m2**0.5*m2**0.5)]])"
   ]
  },
  {
   "cell_type": "code",
   "execution_count": 12,
   "id": "511cce73",
   "metadata": {},
   "outputs": [],
   "source": [
    "\n",
    "\n",
    "def angle_stiffness_2d(k,m1,m2,m3,p1,p2,p3):\n",
    "    \n",
    "    xi,yi,xj,yj,xk,yk = symbols('xi yi zi xj yj zj xk yk zk', real=True)\n",
    "    \n",
    "    theta = acos(((xj-xi)**2+(yj-yi)**2+(xk-xj)**2+(yk-yj)**2-((xk-xi)**2+(yk-yi)**2))/(((xj-xi)**2+(yj-yi)**2+(zj-zi)**2)**0.5+((xk-xj)**2+(yk-yj)**2)**0.5))\n",
    "    \n",
    "    theta_xi = theta.diff(xi)\n",
    "    theta_yi = theta.diff(yi)\n",
    "    \n",
    "    theta_xi_xi = theta_xi.diff(xi)\n",
    "    theta_yi_yi = theta_yi.diff(yi)\n",
    "    \n",
    "    theta_xi_yi = theta.diff(yi)\n",
    "\n",
    "    \n",
    "    \n",
    "    \n",
    "    return \n",
    "    \n",
    "    \n",
    "    "
   ]
  },
  {
   "cell_type": "code",
   "execution_count": 13,
   "id": "00304039",
   "metadata": {},
   "outputs": [],
   "source": [
    "def hessian_2D(m_list,p_list,b_list,k_list):\n",
    "    hm = np.zeros((m_list.shape[0]*2,m_list.shape[0]*2))\n",
    "    \n",
    "    num_cout = 0\n",
    "    for i,j in bond_list*2:\n",
    "\n",
    "        k_n = bond_stiffness_2D(k_list[num_cout],m_list[int(i/2)],m_list[int(j/2)])\n",
    "        #print(k_n)\n",
    "        hm[i,i:i+2] += k_n[0,0:2]\n",
    "        hm[i,j:j+2] += k_n[0,2:4]\n",
    "        \n",
    "        hm[i+1,i:i+2] += k_n[1,0:2]\n",
    "        hm[i+1,j:j+2] += k_n[1,2:4]\n",
    "        \n",
    "        hm[j,i:i+2] += k_n[2,0:2]\n",
    "        hm[j,j:j+2] += k_n[2,2:4]\n",
    "        \n",
    "        hm[j+1,i:i+2] += k_n[3,0:2]\n",
    "        hm[j+1,j:j+2] += k_n[3,2:4]\n",
    "        \n",
    " \n",
    "    return hm"
   ]
  },
  {
   "cell_type": "code",
   "execution_count": 14,
   "id": "0ec7a853",
   "metadata": {},
   "outputs": [],
   "source": [
    "system_kmatrix = hessian_2D(mass_list,position_list,bond_list,stiffness_list)"
   ]
  },
  {
   "cell_type": "code",
   "execution_count": 18,
   "id": "2acde509",
   "metadata": {},
   "outputs": [
    {
     "name": "stdout",
     "output_type": "stream",
     "text": [
      "[[10.    0.    0.    0.   -2.5   0.  ]\n",
      " [ 0.   10.    0.    0.    0.   -2.5 ]\n",
      " [ 0.    0.   10.    0.   -2.5   0.  ]\n",
      " [ 0.    0.    0.   10.    0.   -2.5 ]\n",
      " [-2.5   0.   -2.5   0.    1.25  0.  ]\n",
      " [ 0.   -2.5   0.   -2.5   0.    1.25]]\n"
     ]
    }
   ],
   "source": [
    "print(system_kmatrix)"
   ]
  },
  {
   "cell_type": "code",
   "execution_count": 19,
   "id": "b91ea71e",
   "metadata": {},
   "outputs": [],
   "source": [
    "system_val, system_vec = np.linalg.eig(system_kmatrix)"
   ]
  },
  {
   "cell_type": "code",
   "execution_count": 20,
   "id": "17a9903b",
   "metadata": {},
   "outputs": [
    {
     "data": {
      "text/plain": [
       "array([ 0.00000000e+00,  7.07106781e-01,  0.00000000e+00, -7.07106781e-01,\n",
       "        0.00000000e+00, -2.60649511e-16])"
      ]
     },
     "execution_count": 20,
     "metadata": {},
     "output_type": "execute_result"
    }
   ],
   "source": [
    "system_vec[:,4]"
   ]
  },
  {
   "cell_type": "code",
   "execution_count": 64,
   "id": "0ae54fee",
   "metadata": {},
   "outputs": [],
   "source": [
    "xi,yi,xj,yj,xk,yk = symbols('xi yi xj yj xk yk ', real=True)"
   ]
  },
  {
   "cell_type": "code",
   "execution_count": null,
   "id": "6aa1321d",
   "metadata": {},
   "outputs": [],
   "source": [
    "rij = ((xj-xi)**2+(yj-yi)**2+(xk-xj)**2+(yk-yj)**2-((xk-xi)**2+(yk-yi)**2)**0.5"
   ]
  },
  {
   "cell_type": "code",
   "execution_count": 66,
   "id": "92184bbf",
   "metadata": {},
   "outputs": [],
   "source": [
    "theta = acos(((xj-xi)**2+(yj-yi)**2+(xk-xj)**2+(yk-yj)**2-((xk-xi)**2+(yk-yi)**2))/(((xj-xi)**2+(yj-yi)**2+(zj-zi)**2)**0.5+((xk-xj)**2+(yk-yj)**2)**0.5))"
   ]
  },
  {
   "cell_type": "code",
   "execution_count": 69,
   "id": "a8e9b8a6",
   "metadata": {},
   "outputs": [],
   "source": [
    "f1 = theta.diff(xi)\n",
    "f2 = theta.diff(yi)"
   ]
  },
  {
   "cell_type": "code",
   "execution_count": 70,
   "id": "c8e216d4",
   "metadata": {},
   "outputs": [
    {
     "data": {
      "text/latex": [
       "$\\displaystyle 0.635674490391564$"
      ],
      "text/plain": [
       "0.635674490391564"
      ]
     },
     "execution_count": 70,
     "metadata": {},
     "output_type": "execute_result"
    }
   ],
   "source": [
    "f2.subs(xi,1).subs(yi,1).subs(zi,1).subs(xj,2).subs(yj,2).subs(zj,2).subs(xk,3).subs(yk,1).subs(zk,2)"
   ]
  },
  {
   "cell_type": "code",
   "execution_count": null,
   "id": "0ee3e05a",
   "metadata": {},
   "outputs": [],
   "source": []
  },
  {
   "cell_type": "code",
   "execution_count": null,
   "id": "107dc7d1",
   "metadata": {},
   "outputs": [],
   "source": []
  },
  {
   "cell_type": "code",
   "execution_count": null,
   "id": "4a07d321",
   "metadata": {},
   "outputs": [],
   "source": []
  },
  {
   "cell_type": "code",
   "execution_count": null,
   "id": "0bdd849c",
   "metadata": {},
   "outputs": [],
   "source": []
  },
  {
   "cell_type": "code",
   "execution_count": null,
   "id": "ba5b3303",
   "metadata": {},
   "outputs": [],
   "source": []
  }
 ],
 "metadata": {
  "kernelspec": {
   "display_name": "Python 3",
   "language": "python",
   "name": "python3"
  },
  "language_info": {
   "codemirror_mode": {
    "name": "ipython",
    "version": 3
   },
   "file_extension": ".py",
   "mimetype": "text/x-python",
   "name": "python",
   "nbconvert_exporter": "python",
   "pygments_lexer": "ipython3",
   "version": "3.8.8"
  }
 },
 "nbformat": 4,
 "nbformat_minor": 5
}
